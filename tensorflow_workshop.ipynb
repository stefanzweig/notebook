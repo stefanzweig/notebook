{
 "cells": [
  {
   "cell_type": "code",
   "execution_count": 1,
   "metadata": {},
   "outputs": [
    {
     "name": "stdout",
     "output_type": "stream",
     "text": [
      "1.2.1\n"
     ]
    }
   ],
   "source": [
    "import tensorflow as tf\n",
    "print(tf.__version__)"
   ]
  },
  {
   "cell_type": "markdown",
   "metadata": {},
   "source": [
    "## Hello Tensorflow!"
   ]
  },
  {
   "cell_type": "code",
   "execution_count": 2,
   "metadata": {},
   "outputs": [
    {
     "name": "stdout",
     "output_type": "stream",
     "text": [
      "b'Hello, Tensorflow!'\n"
     ]
    }
   ],
   "source": [
    "hello = tf.constant(\"Hello, Tensorflow!\")\n",
    "sess = tf.Session()\n",
    "print(sess.run(hello))"
   ]
  },
  {
   "cell_type": "code",
   "execution_count": 3,
   "metadata": {
    "collapsed": true
   },
   "outputs": [],
   "source": [
    "node1 = tf.constant(3.0, tf.float32)\n",
    "node2 = tf.constant(4.0)\n",
    "node3 = tf.add(node1, node2)"
   ]
  },
  {
   "cell_type": "code",
   "execution_count": 4,
   "metadata": {},
   "outputs": [
    {
     "name": "stdout",
     "output_type": "stream",
     "text": [
      "node1: Tensor(\"Const_1:0\", shape=(), dtype=float32) node2: Tensor(\"Const_2:0\", shape=(), dtype=float32)\n",
      "node3: Tensor(\"Add:0\", shape=(), dtype=float32)\n"
     ]
    }
   ],
   "source": [
    "print(\"node1:\", node1, \"node2:\", node2)\n",
    "print(\"node3:\", node3)"
   ]
  },
  {
   "cell_type": "code",
   "execution_count": 5,
   "metadata": {},
   "outputs": [
    {
     "name": "stdout",
     "output_type": "stream",
     "text": [
      "sess.run(node1, node2):  [3.0, 4.0]\n",
      "sess.run(node3):  7.0\n"
     ]
    }
   ],
   "source": [
    "sess = tf.Session()\n",
    "print(\"sess.run(node1, node2): \", sess.run([node1, node2]))\n",
    "print(\"sess.run(node3): \", sess.run(node3))"
   ]
  },
  {
   "cell_type": "markdown",
   "metadata": {},
   "source": [
    "## Placeholder"
   ]
  },
  {
   "cell_type": "code",
   "execution_count": 9,
   "metadata": {},
   "outputs": [
    {
     "name": "stdout",
     "output_type": "stream",
     "text": [
      "7.5\n",
      "[ 3.  7.]\n"
     ]
    }
   ],
   "source": [
    "a = tf.placeholder(tf.float32)\n",
    "b = tf.placeholder(tf.float32)\n",
    "adder_node = a + b # + provides a shortcut for tf.add(a, b)\n",
    "print(sess.run(adder_node, feed_dict={a: 3, b: 4.5}))\n",
    "print(sess.run(adder_node, feed_dict={a: [1, 3], b: [2, 4]}))"
   ]
  },
  {
   "cell_type": "markdown",
   "metadata": {
    "collapsed": true
   },
   "source": [
    "## One Example"
   ]
  },
  {
   "cell_type": "code",
   "execution_count": 23,
   "metadata": {},
   "outputs": [
    {
     "name": "stdout",
     "output_type": "stream",
     "text": [
      "    0             24.177072525024414    -0.854674220085144    1.3798800706863403\n",
      "   50             0.5501234531402588     1.133433222770691    1.9556151628494263\n",
      "  100             0.4323028028011322    1.2363429069519043    1.7359319925308228\n",
      "  150            0.33982929587364197    1.3229409456253052     1.539113998413086\n",
      "  200            0.26713696122169495    1.3997074365615845    1.3646060228347778\n",
      "  250            0.20999424159526825     1.467769742012024    1.2098844051361084\n",
      "  300            0.16507457196712494    1.5281152725219727    1.0727051496505737\n",
      "  350            0.12976348400115967    1.5816185474395752     0.951079249382019\n",
      "  400            0.10200607031583786    1.6290555000305176    0.8432439565658569\n",
      "  450            0.08018607646226883    1.6711139678955078    0.7476350665092468\n",
      "  500            0.06303349882364273    1.7084038257598877    0.6628665328025818\n",
      "  550             0.0495501272380352    1.7414655685424805    0.5877095460891724\n",
      "  600            0.03895088657736778     1.770778775215149    0.5210736989974976\n",
      "  650           0.030618993565440178     1.796768307685852    0.4619932770729065\n",
      "  700           0.024069303646683693    1.8198111057281494   0.40961143374443054\n",
      "  750           0.018920721486210823    1.8402411937713623    0.3631689250469208\n",
      "  800             0.0148733826354146     1.858355164527893   0.32199206948280334\n",
      "  850           0.011691841296851635    1.8744152784347534   0.28548383712768555\n",
      "  900           0.009190850891172886    1.8886542320251465     0.253115177154541\n",
      "  950           0.007224855478852987    1.9012788534164429   0.22441650927066803\n",
      " 1000            0.00567936897277832    1.9124720096588135   0.19897161424160004\n",
      " 1050           0.004464526195079088     1.922396183013916   0.17641183733940125\n",
      " 1100           0.003509537084028125    1.9311950206756592   0.15640988945960999\n",
      " 1150          0.0027588221710175276    1.9389960765838623   0.13867580890655518\n",
      " 1200          0.0021686770487576723    1.9459130764007568   0.12295247614383698\n",
      " 1250          0.0017047791043296456    1.9520454406738281   0.10901185125112534\n",
      " 1300           0.001340108341537416    1.9574825763702393   0.09665194898843765\n",
      " 1350          0.0010534446919336915    1.9623034000396729   0.08569347113370895\n",
      " 1400          0.0008281081099994481    1.9665775299072266   0.07597725838422775\n",
      " 1450          0.0006509612430818379    1.9703670740127563   0.06736264377832413\n",
      " 1500          0.0005117187392897904    1.9737268686294556  0.059724967926740646\n",
      " 1550          0.0004022551001980901      1.97670578956604  0.052953243255615234\n",
      " 1600            0.00031620854861103    1.9793468713760376    0.0469493605196476\n",
      " 1650         0.00024856728850863874    1.9816888570785522   0.04162588343024254\n",
      " 1700         0.00019539562345016748     1.983764886856079   0.03690614551305771\n",
      " 1750          0.0001535983756184578    1.9856057167053223  0.032721616327762604\n",
      " 1800           0.000120742799481377     1.987237811088562  0.029011575505137444\n",
      " 1850          9.491504170000553e-05    1.9886847734451294  0.025722142308950424\n",
      " 1900          7.461362838512287e-05     1.989967703819275   0.02280570939183235\n",
      " 1950          5.865163984708488e-05    1.9911051988601685  0.020219897851347923\n",
      " 2000         4.6105324145173654e-05     1.992113709449768  0.017927372828125954\n"
     ]
    }
   ],
   "source": [
    "import tensorflow as tf\n",
    "\n",
    "# X and Y data\n",
    "x_train = [1, 2, 3]\n",
    "y_train = [2, 4, 6]\n",
    "\n",
    "W = tf.Variable(tf.random_normal([1]), name=\"weight\")\n",
    "b = tf.Variable(tf.random_normal([1]), name=\"bias\")\n",
    "\n",
    "# Our hypothesis XW+b\n",
    "hypothesis = x_train * W + b\n",
    "\n",
    "# cost/loss function\n",
    "cost = tf.reduce_mean(tf.square(hypothesis - y_train))\n",
    "\n",
    "# Minimize\n",
    "optimizer = tf.train.GradientDescentOptimizer(learning_rate=0.01)\n",
    "train = optimizer.minimize(cost)\n",
    "\n",
    "# Launch the graph in a session\n",
    "sess = tf.Session()\n",
    "# Initialize global variables in the group\n",
    "sess.run(tf.global_variables_initializer())\n",
    "\n",
    "# Fit the line\n",
    "for step in range(2001):\n",
    "    sess.run(train)\n",
    "    if step % 50 == 0:\n",
    "        line  = '{:>5} {:>30}  {:>20}  {:>20}'.format(step,sess.run(cost), sess.run(W)[0], sess.run(b)[0] )\n",
    "        print(line)\n"
   ]
  },
  {
   "cell_type": "code",
   "execution_count": null,
   "metadata": {
    "collapsed": true
   },
   "outputs": [],
   "source": []
  }
 ],
 "metadata": {
  "kernelspec": {
   "display_name": "Python 3",
   "language": "python",
   "name": "python3"
  },
  "language_info": {
   "codemirror_mode": {
    "name": "ipython",
    "version": 3
   },
   "file_extension": ".py",
   "mimetype": "text/x-python",
   "name": "python",
   "nbconvert_exporter": "python",
   "pygments_lexer": "ipython3",
   "version": "3.6.3"
  }
 },
 "nbformat": 4,
 "nbformat_minor": 2
}
